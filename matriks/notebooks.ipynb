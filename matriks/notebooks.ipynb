{
 "cells": [
  {
   "cell_type": "markdown",
   "metadata": {},
   "source": [
    "Tugas 2 : Membuat code mengkalikan Matriks"
   ]
  },
  {
   "cell_type": "code",
   "execution_count": 1,
   "metadata": {},
   "outputs": [
    {
     "name": "stdout",
     "output_type": "stream",
     "text": [
      "A:  [[2 1 3]\n",
      " [2 1 2]]\n",
      "\n",
      "B:  [[1 3]\n",
      " [2 2]\n",
      " [1 2]]\n",
      "\n",
      "AB:  [[7, 14], [6, 12]]\n"
     ]
    }
   ],
   "source": [
    "import numpy as np\n",
    "\n",
    "A = np.array([[3,1,3], [3,2,2]])\n",
    "B = np.array([[2,1], [4,2], [2,2]])\n",
    "\n",
    "print(\"A: \", A)\n",
    "print()\n",
    "print(\"B: \", B)\n",
    "print()\n",
    "\n",
    "def multipleMatrix(A, B):\n",
    "    if A.shape[1] != B.shape[0]: \n",
    "        print(\"syarat tidak terpenuhi\")\n",
    "        return False\n",
    "    n = A.shape[1] \n",
    "    res = [] \n",
    "    for i in range(A.shape[0]): \n",
    "        row = [] \n",
    "        for j in range(B.shape[1]): \n",
    "            e = 0 \n",
    "            for k in range(n): \n",
    "                e = e + (A[i][k] * B[k][j]) \n",
    "            row.append(e) \n",
    "\n",
    "        res.append(row) \n",
    "    return res \n",
    "\n",
    "hasil = multipleMatrix(A, B)\n",
    "print(\"AB: \", hasil)"
   ]
  }
 ],
 "metadata": {
  "kernelspec": {
   "display_name": "Python 3 (ipykernel)",
   "language": "python",
   "name": "python3"
  },
  "widgets": {
   "application/vnd.jupyter.widget-state+json": {
    "state": {},
    "version_major": 2,
    "version_minor": 0
   }
  }
 },
 "nbformat": 4,
 "nbformat_minor": 4
}
