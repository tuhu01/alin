{
 "cells": [
  {
   "cell_type": "markdown",
   "metadata": {},
   "source": [
    "## MATRIKS"
   ]
  },
  {
   "cell_type": "markdown",
   "metadata": {},
   "source": [
    "Matriks adalah suatu himpunan bilangan-bilangan yang disusun dalam bentuk baris dan kolom. Secara lebih formal, matriks adalah suatu tabel persegi panjang yang terdiri dari elemen-elemen yang disusun dalam baris-baris dan kolom-kolom."
   ]
  },
  {
   "cell_type": "markdown",
   "metadata": {},
   "source": [
    "## Operasi Matriks\n",
    "\n",
    "**1.Matriks dalam bentuk apapun dapat dikalikan dengan skalar c,d**  \n",
    "hasilnya salah semua elemen matriks dikalikan dengan skalar tersebut dengan notasi,subskrip,kita akan tulis dengan\n",
    "\n",
    "$$(cA)_{ij}=ca_{ij}$$\n",
    "$$(c+d)A=cA+dA$$\n",
    "$$c(dA)=(cd)A$$\n",
    "$$c(A+B)=cA+cB$$\n",
    "$$terdapat - A,sehingga A+(-A)=0$$\n",
    "\n",
    "**2.matriks yang ukurannya sama dapat dijumlahkan**  \n",
    "Hasilnya adalah semua elemen yang bersesuaian ditambahkan dan di tulisakan dalam bentuk\n",
    "$$(A+C){ij}=a{ij}+c{ij}$$\n",
    "$$A+0=A dimana 0 matriks 0$$\n",
    "$$A+B=B+A$$\n",
    "$$(A+B)+C=A+(B+C)$$\n",
    "\n",
    "**3.Kolom dari Matrix A adalah sama dengan banyaknya baris di matriks B matriks dapat dikalikan**  \n",
    "Hasilnya adalah matix AB dengan baris sama dengan matriks A dan kolom sama dengan matriks B,(AB){ij} gabungan antara kolom {i} dari A dan kolom {j} dari B\n",
    "\n",
    "karakteristik perkalian matriks A,B,C\n",
    "\n",
    "$$(AB)=(cA)B=A(cB)$$  \n",
    "$$(AB)C=A(BC)$$  \n",
    "$$A(B+C)=AB+AC$$  \n",
    "$$(B+C)A=BA+CA$$\n",
    "\n"
   ]
  },
  {
   "cell_type": "markdown",
   "metadata": {},
   "source": [
    "## Program perkalian matriks menggunakan python"
   ]
  },
  {
   "cell_type": "code",
   "execution_count": 2,
   "metadata": {},
   "outputs": [
    {
     "name": "stdout",
     "output_type": "stream",
     "text": [
      "Hasil perkalian matriks:\n",
      "[30, 24, 18]\n",
      "[84, 69, 54]\n",
      "[138, 114, 90]\n"
     ]
    }
   ],
   "source": [
    "def multiply_matrices(matrix1, matrix2):\n",
    "    # Mengambil jumlah baris dan kolom untuk setiap matriks\n",
    "    rows_matrix1 = len(matrix1)\n",
    "    cols_matrix1 = len(matrix1[0])\n",
    "    rows_matrix2 = len(matrix2)\n",
    "    cols_matrix2 = len(matrix2[0])\n",
    "\n",
    "    # Pastikan jumlah kolom matriks pertama sama dengan jumlah baris matriks kedua\n",
    "    if cols_matrix1 != rows_matrix2:\n",
    "        print(\"Perkalian matriks tidak dapat dilakukan.\")\n",
    "        return None\n",
    "\n",
    "    # Inisialisasi matriks hasil\n",
    "    result_matrix = [[0 for _ in range(cols_matrix2)] for _ in range(rows_matrix1)]\n",
    "\n",
    "    # Melakukan perkalian matriks\n",
    "    for i in range(rows_matrix1):\n",
    "        for j in range(cols_matrix2):\n",
    "            for k in range(cols_matrix1):\n",
    "                result_matrix[i][j] += matrix1[i][k] * matrix2[k][j]\n",
    "\n",
    "    return result_matrix\n",
    "\n",
    "# Contoh penggunaan\n",
    "matrix_A = [\n",
    "    [1, 2, 3],\n",
    "    [4, 5, 6],\n",
    "    [7, 8, 9]\n",
    "]\n",
    "\n",
    "matrix_B = [\n",
    "    [9, 8, 7],\n",
    "    [6, 5, 4],\n",
    "    [3, 2, 1]\n",
    "]\n",
    "\n",
    "result = multiply_matrices(matrix_A, matrix_B)\n",
    "if result:\n",
    "    print(\"Hasil perkalian matriks:\")\n",
    "    for row in result:\n",
    "        print(row)\n"
   ]
  }
 ],
 "metadata": {
  "kernelspec": {
   "display_name": "Python 3 (ipykernel)",
   "language": "python",
   "name": "python3"
  }
 },
 "nbformat": 4,
 "nbformat_minor": 2
}
