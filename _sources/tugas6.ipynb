{
 "cells": [
  {
   "cell_type": "markdown",
   "metadata": {},
   "source": [
    "## Tranformasi linier\n",
    "\n",
    "**Definisi**  \n",
    "Transformasi linear merupakan dasar dalam aljabar linear yang\n",
    "berbentuk fungsi. Transformasi linear yang dimaksud adalah perpindahan\n",
    "dari satu ruang yang biasa dinamakan dengan domain ke ruang lain yang\n",
    "dinamakan kodomain.\n",
    "\n",
    "T(u+v) = T(u)+T(v)  \n",
    "\n",
    "contoh : diberikan fungsi $T:R^2 -> R^2$ yang dalam hal ini T(x,y) = (2x,y), maka akan ditunjukan bahwa T adalah transformasi linier.  \n",
    "misalkan **u**  dan **v** adalah dua buah vektor di $R^2$,**u** = $(u{1},u{2})$ dan v = $(v{1},v{2})$.  \n",
    "\n",
    "(1.)  \n",
    "  \n",
    " $\\begin{aligned} \\mathrm{T}(\\mathbf{u}+\\mathbf{v}) & =\\mathrm{T}\\left(\\mathrm{u}_1+\\mathrm{v}_1, \\mathrm{u}_2+\\mathrm{v}_2\\right)=\\left(2\\left(\\mathrm{u}_1+\\mathrm{v}_1\\right), \\mathrm{u}_2+\\mathrm{v}_2\\right)=\\left(2 \\mathrm{u}_1+2 \\mathrm{v}_1, \\mathrm{u}_2+\\mathrm{v}_2\\right) \\\\ & =\\left[\\begin{array}{c}2 u_1+2 v_1 \\\\ u_2+v_2\\end{array}\\right]=\\left[\\begin{array}{c}u_1 \\\\ u_2\\end{array}\\right]+\\left[\\begin{array}{c}2 v_1 \\\\ v_2\\end{array}\\right]=\\mathrm{T}\n",
    "(\\mathbf{u})+\\mathrm{T}(\\mathbf{v})\\end{aligned}$\n",
    "\n",
    "(2.)  \n",
    "  \n",
    "$\n",
    "\\begin{aligned}\n",
    "& \\mathrm{T}(k \\mathbf{u})=\\mathrm{T}\\left(k \\mathrm{u}_1, k \\mathrm{u}_2\\right)=\\left(2 k \\mathrm{u}_1, k \\mathrm{u}_2\\right) \\\\\n",
    "&= {\\left[\\begin{array}{c}\n",
    "2 k u_1 \\\\\n",
    "k u_2\n",
    "\\end{array}\\right]=k\\left[\\begin{array}{c}\n",
    "u_1 \\\\\n",
    "u_2\n",
    "\\end{array}\\right]=k \\mathrm{~T}(\\mathbf{u}) }\n",
    "\\end{aligned}\n",
    "$\n",
    "\n",
    "Karena T(u+v) = T(u) + T(v) dan T(ku) = kT(u),maka T adalah trasnformasi linier"
   ]
  },
  {
   "cell_type": "markdown",
   "metadata": {},
   "source": [
    "# matriks sebagai Transformasi Linier\n",
    "\n",
    "$\\begin{aligned} T\\binom{0}{1} & =1 / 2\\binom{-2}{0}+1 / 2\\binom{-2}{2} \\\\ & =\\binom{1}{0}+\\binom{-1}{1} \\\\ & =\\binom{0}{1} \\\\ A & =\\left(\\begin{array}{cc}-1 & 0 \\\\ 0 & 1\\end{array}\\right)\\end{aligned}$"
   ]
  }
 ],
 "metadata": {
  "language_info": {
   "name": "python"
  }
 },
 "nbformat": 4,
 "nbformat_minor": 2
}
