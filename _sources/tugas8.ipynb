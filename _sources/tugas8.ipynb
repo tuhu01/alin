{
 "cells": [
  {
   "cell_type": "markdown",
   "metadata": {},
   "source": [
    "# Alikasi aljabar linier\n",
    "\n",
    "Web dapat direpresentasikan seperti grafik berarah di mana node mewakili halaman web dan tepinya membentuk hubungan di antara keduanya.Biasanya, jika sebuah node (halaman web)i terhubung ke sebuah nodeJ, itu artinya i mengacu pada J.\n",
    "\n",
    "\n",
    "**Page Rank**  \n",
    "PageRank adalah algoritma yang Tujuan dari algoritme ini adalah untuk membantu mengidentifikasi situs web mana yang lebih penting dan oleh karena itu harus mendapat peringkat lebih tinggi pada halaman hasil mesin pencari.\n",
    "\n",
    "\n",
    "**konsep power method**  \n",
    "1. **Pendekatan Awal**:\n",
    "   - Algoritma dimulai dengan menggunakan suatu vektor awal sebagai pendekatan awal untuk vektor eigen yang sesuai dengan nilai eigen dominan dari matriks.\n",
    "\n",
    "2. **Iterasi**:\n",
    "   - Proses iteratif dilakukan dengan mengalikan matriks yang diberikan dengan vektor pendekatan awal. Setiap iterasi meningkatkan ketepatan pendekatan terhadap vektor eigen dominan.\n",
    "\n",
    "3. **Normalisasi**:\n",
    "   - Setiap hasil perkalian matriks dan vektor dinormalisasi untuk memastikan panjang vektor tetap 1. Hal ini memungkinkan algoritma untuk konvergen menuju vektor eigen dominan.\n",
    "\n",
    "4. **Konvergensi**:\n",
    "   - Algoritma berhenti iterasi ketika perubahan antara vektor sekarang dan sebelumnya sudah cukup kecil, menandakan bahwa pendekatan vektor eigen dominan sudah cukup akurat.\n",
    "\n",
    "5. **Perhitungan Nilai Eigen**:\n",
    "   - Setelah konvergensi, nilai eigen dominan dihitung menggunakan kuotien Rayleigh, yang merupakan hasil dari perkalian vektor eigen dominan dengan matriks dan kemudian dikali lagi dengan vektor eigen dominan itu sendiri.\n",
    "\n",
    "6. **Hasil Akhir**:\n",
    "   - Hasil akhir dari algoritma adalah vektor eigen yang sesuai dengan nilai eigen dominan dari matriks yang diberikan."
   ]
  },
  {
   "cell_type": "code",
   "execution_count": 1,
   "metadata": {},
   "outputs": [
    {
     "name": "stdout",
     "output_type": "stream",
     "text": [
      "Iteration 0: difference norm = 0.480308782077982\n",
      "Iteration 1: difference norm = 0.2939161841620135\n",
      "Iteration 2: difference norm = 0.15699782981222282\n",
      "Iteration 3: difference norm = 0.10461027073999182\n",
      "Iteration 4: difference norm = 0.0650131150015595\n",
      "Iteration 5: difference norm = 0.054337568885051514\n",
      "Iteration 6: difference norm = 0.029126241022143836\n",
      "Corresponding Eigenvector: [0.23160671 0.5927276  0.30366932 0.21574925 0.67547726]\n"
     ]
    }
   ],
   "source": [
    "import numpy as np\n",
    "\n",
    "def power_method(A, b, coverage=0.05):\n",
    "    b = b / np.linalg.norm(b)  # Normalize the initial vector\n",
    "    previous_b = np.zeros_like(b)\n",
    "    iteration = 0  # Add iteration counter\n",
    "    while np.linalg.norm(b - previous_b) > coverage:\n",
    "        previous_b = b.copy()  # Store a copy of the current vector\n",
    "        b = np.dot(A, b)  # Apply the matrix to the vector\n",
    "        norm = np.linalg.norm(b)  # Compute the norm of the vector\n",
    "        b = b / norm  # Normalize the vector\n",
    "\n",
    "        # Print the difference norm at each iteration\n",
    "        difference_norm = np.linalg.norm(b - previous_b)\n",
    "        print(f\"Iteration {iteration}: difference norm = {difference_norm}\")\n",
    "        iteration += 1  # Increment iteration counter\n",
    "\n",
    "    eigenvalue = np.dot(b.T, np.dot(A, b))  # Rayleigh quotient for the dominant eigenvalue\n",
    "    return b\n",
    "\n",
    "# Example usage\n",
    "A = np.array([\n",
    "    [0, 0, 0, 0, 1/3],\n",
    "    [0, 0, 1/2, 1, 1/3],\n",
    "    [1/3, 0, 0, 0, 1/3],\n",
    "    [1/3, 0, 1/2, 0, 0],\n",
    "    [1/3, 1, 0, 0, 0]\n",
    "])  # Example matrix\n",
    "\n",
    "b = np.array([0.2, 0.2, 0.2, 0.2, 0.2])  # Initial vector\n",
    "\n",
    "eigenvector = power_method(A, b)\n",
    "\n",
    "print(\"Corresponding Eigenvector:\", eigenvector)"
   ]
  },
  {
   "cell_type": "code",
   "execution_count": 2,
   "metadata": {},
   "outputs": [
    {
     "name": "stdout",
     "output_type": "stream",
     "text": [
      "Data yang akan diurutkan: [0.23160671 0.5927276  0.30366932 0.21574925 0.67547726]\n",
      "Iterasi ke- 1 :\n",
      "[0.23160671 0.30366932 0.21574925 0.5927276  0.67547726]\n",
      "Iterasi ke- 2 :\n",
      "[0.23160671 0.21574925 0.30366932 0.5927276  0.67547726]\n",
      "Iterasi ke- 3 :\n",
      "[0.21574925 0.23160671 0.30366932 0.5927276  0.67547726]\n",
      "Iterasi ke- 4 :\n",
      "[0.21574925 0.23160671 0.30366932 0.5927276  0.67547726]\n",
      "\n",
      "Data urut: [0.21574925 0.23160671 0.30366932 0.5927276  0.67547726]\n",
      "[3, 0, 2, 1, 4]\n"
     ]
    }
   ],
   "source": [
    "def bubbleSort(eigenvector,rank):\n",
    "    print('Data yang akan diurutkan:', eigenvector)\n",
    "    hitung = 0\n",
    "    n = len(eigenvector)\n",
    "    swap = True\n",
    "    while swap:\n",
    "        swap = False\n",
    "        hitung += 1\n",
    "        print('Iterasi ke-', hitung, ':')\n",
    "        for i in range(n - 1):\n",
    "            if eigenvector[i] > eigenvector[i + 1]:\n",
    "                rank[i],rank[i+1] = rank[i+1] ,rank [i]\n",
    "                eigenvector[i], eigenvector[i + 1] = eigenvector[i + 1], eigenvector[i]\n",
    "                swap = True\n",
    "        n -= 1\n",
    "        print(eigenvector)\n",
    "    print('')\n",
    "    print('Data urut:', eigenvector)\n",
    "    print(rank)\n",
    "\n",
    "\n",
    "rank = [0,1,2,3,4]\n",
    "a = eigenvector\n",
    "bubbleSort(a,rank)"
   ]
  }
 ],
 "metadata": {
  "kernelspec": {
   "display_name": "Python 3 (ipykernel)",
   "language": "python",
   "name": "python3"
  }
 },
 "nbformat": 4,
 "nbformat_minor": 2
}
