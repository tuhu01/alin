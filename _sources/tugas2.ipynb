{
 "cells": [
  {
   "cell_type": "markdown",
   "metadata": {},
   "source": [
    "## Matriks"
   ]
  },
  {
   "cell_type": "markdown",
   "metadata": {},
   "source": [
    "Matriks adalah suatu himpunan bilangan-bilangan yang disusun dalam bentuk baris dan kolom. Secara lebih formal, matriks adalah suatu tabel persegi panjang yang terdiri dari elemen-elemen yang disusun dalam baris-baris dan kolom-kolom."
   ]
  },
  {
   "cell_type": "markdown",
   "metadata": {},
   "source": [
    "## Operasi Matriks\n",
    "\n",
    "**1.Matriks dalam bentuk apapun dapat dikalikan dengan skalar c,d**  \n",
    "hasilnya adalah semua elemen matriks dikalikan dengan skalar tersebut dengan notasi,subskrip,kita akan tulis dengan\n",
    "\n",
    "$$(cA)_{ij}=cA_{ij}$$\n",
    "$$(c+d)A=cA+dA$$\n",
    "$$c(dA)=(cd)A$$\n",
    "$$c(A+B)=cA+cB$$\n",
    "$$terdapat - A,sehingga A+(-A)=0$$\n",
    "\n",
    "**2.matriks yang ukurannya sama dapat dijumlahkan**  \n",
    "Hasilnya adalah semua elemen yang bersesuaian ditambahkan dan di tulisakan dalam bentuk   \n",
    "$(A+C){ij}=a{ij}+c{ij}\\\\\n",
    "A+0=A dimana 0 matriks 0\\\\     \n",
    "A+B=B+A\\\\\n",
    "(A+B)+C=A+(B+C)\\\\$\n",
    "\n",
    "**3.Kolom dari Matrix A adalah sama dengan banyaknya baris di matriks B matriks dapat dikalikan**  \n",
    "Hasilnya adalah matix AB dengan baris sama dengan matriks A dan kolom sama dengan matriks B,$(AB){ij}$ gabungan antara kolom ${i}$ dari A dan kolom ${j}$ dari B\n",
    "\n",
    "karakteristik perkalian matriks A,B,C\n",
    "\n",
    "$$c(AB)=(cA)B=A(cB)$$  \n",
    "$$(AB)C=A(BC)$$  \n",
    "$$A(B+C)=AB+AC$$  \n",
    "$$(B+C)A=BA+CA$$\n",
    "\n"
   ]
  },
  {
   "cell_type": "markdown",
   "metadata": {},
   "source": [
    "## Program Perkalian Matriks Menggunakan Python"
   ]
  },
  {
   "cell_type": "code",
   "execution_count": 5,
   "metadata": {},
   "outputs": [
    {
     "name": "stdout",
     "output_type": "stream",
     "text": [
      "Hasil perkalian matriks:\n",
      "[2, 1, 5]\n",
      "[1, 1, 5]\n",
      "[1, 2, 10]\n"
     ]
    }
   ],
   "source": [
    "import numpy as np\n",
    "def multiply_matrices(matrix1, matrix2):\n",
    "    # Mengambil jumlah baris dan kolom untuk setiap matriks\n",
    "    rows_matrix1 = len(matrix1)\n",
    "    cols_matrix1 = len(matrix1[0])\n",
    "    rows_matrix2 = len(matrix2)\n",
    "    cols_matrix2 = len(matrix2[0])\n",
    "\n",
    "    # Pastikan jumlah kolom matriks pertama sama dengan jumlah baris matriks kedua\n",
    "    if cols_matrix1 != rows_matrix2:\n",
    "        print(\"Perkalian matriks tidak dapat dilakukan.\")\n",
    "        return None\n",
    "\n",
    "    # Inisialisasi matriks hasil\n",
    "    result_matrix = [[0 for _ in range(cols_matrix2)] for _ in range(rows_matrix1)]\n",
    "\n",
    "    # Melakukan perkalian matriks\n",
    "    for i in range(rows_matrix1):\n",
    "        for j in range(cols_matrix2):\n",
    "            for k in range(cols_matrix1):\n",
    "                result_matrix[i][j] += matrix1[i][k] * matrix2[k][j]\n",
    "\n",
    "    return result_matrix\n",
    "\n",
    "# Contoh penggunaan\n",
    "matrix_A = [\n",
    "    [2, 1],\n",
    "    [1, 1],\n",
    "    [1, 2]\n",
    "]\n",
    "\n",
    "matrix_B = [\n",
    "    [1, 0, 0],\n",
    "    [0, 1, 5]\n",
    "]\n",
    "\n",
    "result = multiply_matrices(matrix_A, matrix_B)\n",
    "if result:\n",
    "    print(\"Hasil perkalian matriks:\")\n",
    "    for row in result:\n",
    "        print(row)"
   ]
  },
  {
   "cell_type": "markdown",
   "metadata": {},
   "source": [
    "## Matriks Transpose"
   ]
  },
  {
   "cell_type": "markdown",
   "metadata": {},
   "source": [
    "Matriks transpose adalah matriks yang diperoleh dengan cara menukar elemen pada baris menjadi elemen pada kolom. Dengan demikian, pada matriks bukan persegi, jumlah kolom dan baris ikut berubah, sehingga matriks awal dan matriks hasil transpose memiliki ukuran yang berbeda. Berikut adalah beberapa sifat-sifat matriks transpose:  \n",
    "  \n",
    "Adapun sifat-sifat yang dimiliki oleh transpose matriks adalah sebagai berikut.  \n",
    "  \n",
    "(PT)T = P  \n",
    "Jika suatu transpose matriks ditransposekan, maka akan dihasilkan matriks awal. Untuk membuktikannya, coba transposekan matriks PT pada contoh sebelumnya.  \n",
    "  \n",
    "Dari contoh di atas, terlihat bahwa transpose matriks PT yang ditransposekan akan sama dengan matriks P awalnya.  \n",
    "  \n",
    "(P + Q)T = PT + QT  \n",
    "Sifat kedua ini berlaku untuk transpose penjumlahan dua buah matriks. Ingat, dua matriks atau lebih bisa dijumlahkan dengan syarat ordo keduanya harus sama. Jika penjumlahan dua matriks yang ordonya sama ditransposekan, hasilnya akan sama dengan penjumlahan masing-masing transpose matriks. Perhatikan contoh berikut."
   ]
  },
  {
   "cell_type": "markdown",
   "metadata": {},
   "source": [
    "## Invers Matriks"
   ]
  },
  {
   "cell_type": "markdown",
   "metadata": {},
   "source": [
    "matriks invers adalah matriks yang, ketika dikalikan dengan matriks asalnya,menghasilkan matriks identitas.Dalam matematika,jika A adalah sebuah matriks persegi berukuran n x n dan i adalah matriks identitas berukuran nxn, maka matriks invers A^-1 dari matriks A adalah matriks yang memenuhi:\n",
    "\n",
    "$A*A^-1 = A^-1 * A = I$"
   ]
  }
 ],
 "metadata": {
  "kernelspec": {
   "display_name": "Python 3 (ipykernel)",
   "language": "python",
   "name": "python3"
  }
 },
 "nbformat": 4,
 "nbformat_minor": 2
}
