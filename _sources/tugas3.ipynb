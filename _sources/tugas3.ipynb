{
 "cells": [
  {
   "cell_type": "markdown",
   "metadata": {},
   "source": [
    "# Program eliminasi gauss jordan menggunakan python\n",
    "\n",
    "persamaan yang akan di eliminasi  \n",
    "  \n",
    "2x1 + 3x2 + 2x3 + x4 = 18  \n",
    "x1 + 2x2 + 4x3 - 3x4 = 29  \n",
    "3x1 + 4x2 + 2x3 + 1x4 = 21  \n",
    "0x1 + 2x2 + 3x3 + 2x4 = 21"
   ]
  },
  {
   "cell_type": "code",
   "execution_count": 8,
   "metadata": {},
   "outputs": [],
   "source": [
    "import numpy as np\n",
    "\n",
    "def RowSwap(A,k,l):\n",
    "# =============================================================================\n",
    "#     A is a NumPy array.  RowSwap will return duplicate array with rows\n",
    "#     k and l swapped.\n",
    "# =============================================================================\n",
    "    m = A.shape[0]  # m is number of rows in A\n",
    "    n = A.shape[1]  # n is number of columns in A\n",
    "\n",
    "    B = np.copy(A).astype('float64')\n",
    "\n",
    "    for j in range(n):\n",
    "        temp = B[k][j]\n",
    "        B[k][j] = B[l][j]\n",
    "        B[l][j] = temp\n",
    "\n",
    "    return B\n",
    "\n",
    "def RowScale(A,k,scale):\n",
    "# =============================================================================\n",
    "#     A is a NumPy array.  RowScale will return duplicate array with the\n",
    "#     entries of row k multiplied by scale.\n",
    "# =============================================================================\n",
    "    m = A.shape[0]  # m is number of rows in A\n",
    "    n = A.shape[1]  # n is number of columns in A\n",
    "\n",
    "    B = np.copy(A).astype('float64')\n",
    "\n",
    "    for j in range(n):\n",
    "        B[k][j] *= scale\n",
    "\n",
    "    return B\n",
    "\n",
    "def RowAdd(A,k,l,scale):\n",
    "# =============================================================================\n",
    "#     A is a numpy array.  RowAdd will return duplicate array with row\n",
    "#     l modifed.  The new values will be the old values of row l added to\n",
    "#     the values of row k, multiplied by scale.\n",
    "# =============================================================================\n",
    "    m = A.shape[0]  # m is number of rows in A\n",
    "    n = A.shape[1]  # n is number of columns in A\n",
    "\n",
    "    B = np.copy(A).astype('float64')\n",
    "\n",
    "    for j in range(n):\n",
    "        B[l][j] += B[k][j]*scale\n",
    "\n",
    "    return B\n",
    "\n",
    "M = np.array([[2, 3, 2, 1], [1, 2, 4, 3], [3, 4, 2, 1], [0, 2, 3, 2]])\n",
    "A = np.array([[2,3,2,1,1,0,0,0], [1,2,4,3,0,1,0,0], [3,4,2,1,0,0,1,0], [0,2,3,2,0,0,0,1]])"
   ]
  },
  {
   "cell_type": "code",
   "execution_count": 19,
   "metadata": {},
   "outputs": [
    {
     "name": "stdout",
     "output_type": "stream",
     "text": [
      "[[2 3 2 1 1 0 0 0]\n",
      " [1 2 4 3 0 1 0 0]\n",
      " [3 4 2 1 0 0 1 0]\n",
      " [0 2 3 2 0 0 0 1]]\n"
     ]
    }
   ],
   "source": [
    "print(A)"
   ]
  },
  {
   "cell_type": "code",
   "execution_count": 18,
   "metadata": {},
   "outputs": [
    {
     "name": "stdout",
     "output_type": "stream",
     "text": [
      "[[ 1.   0.   0.   0.   1.   0.5 -0.5 -1. ]\n",
      " [ 0.   1.   0.   0.  -2.  -0.5  1.5  1. ]\n",
      " [ 0.   0.   1.   0.   6.   0.  -4.  -1. ]\n",
      " [ 0.   0.   0.   1.  -7.   0.5  4.5  1. ]]\n",
      "\n",
      "[[1. 0. 0. 0.]\n",
      " [0. 1. 0. 0.]\n",
      " [0. 0. 1. 0.]\n",
      " [0. 0. 0. 1.]]\n",
      "[[1.]\n",
      " [2.]\n",
      " [3.]\n",
      " [4.]]\n"
     ]
    }
   ],
   "source": [
    "m1 = RowAdd(A,1,0,-1)\n",
    "m2 = RowAdd(m1,0,1,-1)\n",
    "m3 = RowAdd(m2,0,2,-3)\n",
    "m4 = RowAdd(m3,1,2,-1)\n",
    "m5 = RowAdd(m4,1,3,-2)\n",
    "m6 = RowScale(m5,2,1/2)\n",
    "m7 = RowAdd(m6,2,3,9)\n",
    "m8 = RowAdd(m7,1,0,-1)\n",
    "m9 = RowAdd(m8,2,1,-6)\n",
    "m10 = RowAdd(m9,2,0,8)\n",
    "m11 = RowAdd(m10,3,2,-1)\n",
    "m12 = RowAdd(m11,3,1,1)\n",
    "m13 = RowAdd(m12,3,0,-1)\n",
    "print(m13)\n",
    "invers = np.array([[1,0.5,-0.5,-1],[-2,-0.5,1.5,1],[6,0,-4,-1],[-7,0.5,4.5,1]])\n",
    "hasil = np.array([[18],[29],[21],[21]])\n",
    "print(\"\")\n",
    "print(invers@M)\n",
    "print(invers@hasil)"
   ]
  }
 ],
 "metadata": {
  "kernelspec": {
   "display_name": "Python 3 (ipykernel)",
   "language": "python",
   "name": "python3"
  }
 },
 "nbformat": 4,
 "nbformat_minor": 2
}
